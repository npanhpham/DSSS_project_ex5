{
  "cells": [
    {
      "cell_type": "markdown",
      "metadata": {
        "id": "view-in-github",
        "colab_type": "text"
      },
      "source": [
        "<a href=\"https://colab.research.google.com/github/npanhpham/DSSS_project_ex5/blob/main/exercise-11.ipynb\" target=\"_parent\"><img src=\"https://colab.research.google.com/assets/colab-badge.svg\" alt=\"Open In Colab\"/></a>"
      ]
    },
    {
      "cell_type": "markdown",
      "metadata": {
        "id": "K7xGQCWAZJQW"
      },
      "source": [
        "<div class=\"alert-block alert-info alert\"> Hello! If this is your first assignment please read the following instructions:\n",
        "\n",
        "Read the questions carefully and code what is asked in the respective code block whenever you see a ``` #TODO: YOUR CODE HERE. ```\n",
        "It is important to do the Coding tasks IN ORDER, as the majority of coding blocks are dependent on the\n",
        "previous coding blocks in the notebook.\n",
        "Please also note that there is a **raise NotImplementedError()** for each task or function you have to\n",
        "implement, so don't forget to remove it before testing your code, otherwise you will always get a \"not\n",
        "implemented\" error.\n",
        "\n",
        "You need to manually upload the data used in this exercise to Colab. Just create a folder 'data' and paste the respective files into this folder. Otherwise, you will get a 'File not found' error. You can find the data in StudOn.\n",
        "\n",
        "Aside from coding blocks, there are also testing blocks to check whether your implementations\n",
        "are correct, you can run them but do not change the code inside of them.\n",
        "The tests are determined via the ASSERT STATEMENTS that you see on the testing blocks, which can help you\n",
        "out during the coding of the exercises. If you pass all the visible asserts, you will probably get a good\n",
        "grade on the exercise, just remember that there are also hidden tests, so hardcoding the assert statements\n",
        "won't help you.\n",
        "\n",
        "REMEMBER: This Colab notebook DOES NOT HAVE AN AUTOSAVE FUNCTION, so whenever you want to close it, please\n",
        "remember to save it by clicking on the \"file\" tab in the upper left corner of the page, followed by\n",
        "clicking on the \"Save a copy to GitHub\" button and selecting your corresponding GitHub repository:\n",
        "\"madlab-biosig/exercise-x-YourGitHubUsername\"\n",
        "\n",
        "Before you save the final version of your assignment, please make sure everything runs as expected.\n",
        "First, **restart the kernel** (in the menubar, select Kernel$\\rightarrow$Restart) and then **run all\n",
        "cells** (in the menubar, select Cell$\\rightarrow$Run All).\n",
        "</div>"
      ]
    },
    {
      "cell_type": "markdown",
      "metadata": {
        "tags": [],
        "id": "wwN7F8ChZJQY"
      },
      "source": [
        "### BioSig Exercises WS 23/24\n",
        "---"
      ]
    },
    {
      "cell_type": "markdown",
      "metadata": {
        "id": "I4l1LQaOZJQY"
      },
      "source": [
        "# Exercise 11"
      ]
    },
    {
      "cell_type": "code",
      "execution_count": 1,
      "metadata": {
        "tags": [],
        "id": "ObhLvxfpZJQY",
        "outputId": "c5b203a8-4964-4414-cf34-54d781571c1b",
        "colab": {
          "base_uri": "https://localhost:8080/"
        }
      },
      "outputs": [
        {
          "output_type": "stream",
          "name": "stdout",
          "text": [
            "Using Notebook widgets\n",
            "Warning: Cannot change to a different GUI toolkit: notebook. Using widget instead.\n",
            "Using static backend\n"
          ]
        }
      ],
      "source": [
        "try:\n",
        "    %matplotlib widget\n",
        "    print('Using widgets')\n",
        "except:\n",
        "    try:\n",
        "        print('Using Notebook widgets')\n",
        "        %matplotlib notebook\n",
        "    except:\n",
        "        print('Using static backend')\n",
        "        %matplotlib inline\n",
        "\n",
        "import matplotlib.pyplot as plt\n",
        "plt.rcParams.update({'figure.max_open_warning': 40})\n",
        "import pandas as pd\n",
        "import numpy as np\n",
        "import scipy\n",
        "import scipy.signal"
      ]
    },
    {
      "cell_type": "markdown",
      "metadata": {
        "id": "00Gmhc8dZJQY"
      },
      "source": [
        "## Ex 11.1: Extraction of Q-, R-, and S-peaks\n",
        "\n",
        "To perform waveform analysis on individual heartbeats in an ECG signal, we need to find all relevant peaks within each repetition of the signal.\n",
        "\n",
        "a) Load the example ecg file (`103.csv`) from the data folder using pandas. The signal is sampled at 360 Hz. Optionally apply a band-pass filter to see its effect.\n",
        "\n",
        "b) Load the file `103_all.csv`. It contains the position of all R-peaks in the signal.\n",
        "\n",
        "c) Extract all QRST complexes from the signal by considering a region spanning from 50 ms before until 250 ms after the R-peak.\n",
        "\n",
        "d) Create a function to find the Q-peak by looking for a minimum left of the R-peaks within a reasonable interval.\n",
        "\n",
        "e) Create a function to find the S-peak by looking for a minimum right of the R-peaks within a reasonable interval.\n",
        "\n",
        "f) Add the position of the Q- and the S-peak as new columns to the DataFrame loaded in step b)\n"
      ]
    },
    {
      "cell_type": "code",
      "execution_count": null,
      "metadata": {
        "deletable": false,
        "nbgrader": {
          "cell_type": "code",
          "checksum": "764bda533c648d5f5a51257277963f29",
          "grade": false,
          "grade_id": "cell-1729cc2cb7f30c9a",
          "locked": false,
          "schema_version": 3,
          "solution": true,
          "task": false
        },
        "tags": [],
        "id": "IFB25obfZJQY"
      },
      "outputs": [],
      "source": [
        "# Load the data and store it in a pd.Series called signal.\n",
        "# Ensure that the index is in seconds\n",
        "SUBJECT = 103\n",
        "sampling_rate = 360  # hz\n",
        "\n",
        "# YOUR CODE HERE\n",
        "raise NotImplementedError()\n",
        "\n",
        "# Optionally apply a bandpass filter to the signal (3-50 Hz passband)\n",
        "# Test all computations in this exercise  with and without the filter\n",
        "# Store the filter coefficients as 'b' and 'a'\n",
        "# YOUR CODE HERE\n",
        "raise NotImplementedError()\n",
        "\n"
      ]
    },
    {
      "cell_type": "code",
      "execution_count": null,
      "metadata": {
        "deletable": false,
        "nbgrader": {
          "cell_type": "code",
          "checksum": "341645f7749890515e6b3e14def7e9d7",
          "grade": false,
          "grade_id": "cell-54743a417aa594bc",
          "locked": false,
          "schema_version": 3,
          "solution": true,
          "task": false
        },
        "tags": [],
        "id": "Tp-xySOwZJQY"
      },
      "outputs": [],
      "source": [
        "# Load the labeled R-peaks an store them in pd.DataFrame called `peaks`\n",
        "# YOUR CODE HERE\n",
        "raise NotImplementedError()"
      ]
    },
    {
      "cell_type": "code",
      "execution_count": null,
      "metadata": {
        "deletable": false,
        "editable": false,
        "nbgrader": {
          "cell_type": "code",
          "checksum": "39f992058b523af85231e89acab9d361",
          "grade": true,
          "grade_id": "cell-877b314122cf5c63",
          "locked": true,
          "points": 4,
          "schema_version": 3,
          "solution": false,
          "task": false
        },
        "tags": [],
        "id": "CjPZ1n5pZJQZ"
      },
      "outputs": [],
      "source": [
        "assert peaks.iloc[0, 0] == 265, 'The first R peak is found wrong.'\n",
        "print('The first R peak is found correct.')"
      ]
    },
    {
      "cell_type": "code",
      "execution_count": null,
      "metadata": {
        "tags": [],
        "id": "ftPhRUp2ZJQZ"
      },
      "outputs": [],
      "source": [
        "plt.figure()\n",
        "signal.plot()\n",
        "\n",
        "# r peaks\n",
        "pos = peaks['R']/sampling_rate\n",
        "plt.plot(pos, signal.loc[pos], 'r*')\n",
        "\n",
        "plt.xlabel('time [s]')\n",
        "plt.xlim(200, 205);"
      ]
    },
    {
      "cell_type": "code",
      "execution_count": null,
      "metadata": {
        "deletable": false,
        "nbgrader": {
          "cell_type": "code",
          "checksum": "54f34bbe3c09e8058ce00e9219234518",
          "grade": false,
          "grade_id": "cell-35a744c028a03b2c",
          "locked": false,
          "schema_version": 3,
          "solution": true,
          "task": false
        },
        "tags": [],
        "id": "UHErjU4EZJQZ"
      },
      "outputs": [],
      "source": [
        "def extract_qrst_complexes(signal, r_peaks, sampling_rate=360):\n",
        "    \"\"\"Extract all qrst complexes from a continous signal.\n",
        "\n",
        "    Cuts out a region of -50ms to 250ms around each provided R-peak\n",
        "\n",
        "    Args:\n",
        "        signal: np.array of ecg signal\n",
        "        r_peaks: list of indices indicating the postion of R-peaks in the signal\n",
        "        sampling_rate: Ssampling rate of the recording\n",
        "\n",
        "    Returns:\n",
        "        qrst: np.array with fixed number of culumns and one qrst complex per row\n",
        "    \"\"\"\n",
        "    signal = np.array(signal)\n",
        "    # YOUR CODE HERE\n",
        "    raise NotImplementedError()\n",
        "    return qrst"
      ]
    },
    {
      "cell_type": "code",
      "execution_count": null,
      "metadata": {
        "tags": [],
        "id": "i99jH2rVZJQZ"
      },
      "outputs": [],
      "source": [
        "qrst_complexes = extract_qrst_complexes(signal, r_peaks=peaks['R'])"
      ]
    },
    {
      "cell_type": "code",
      "execution_count": null,
      "metadata": {
        "deletable": false,
        "editable": false,
        "nbgrader": {
          "cell_type": "code",
          "checksum": "bd1e4b95f64d1aa53d218b2fb0925ca2",
          "grade": true,
          "grade_id": "cell-ddc6759892bf83bc",
          "locked": true,
          "points": 6,
          "schema_version": 3,
          "solution": false,
          "task": false
        },
        "tags": [],
        "id": "kISO2tvkZJQZ"
      },
      "outputs": [],
      "source": [
        "assert abs(sum(sum(qrst_complexes[0:1040][0:1400])) - 2836.8060839440473) < 1e-3, 'The half of the extracted qrst complexes are wrong'\n",
        "print('The half of the extracted qrst complexes are correct.')"
      ]
    },
    {
      "cell_type": "code",
      "execution_count": null,
      "metadata": {
        "deletable": false,
        "nbgrader": {
          "cell_type": "code",
          "checksum": "df247e2936955c788b3fb8899cfe7464",
          "grade": false,
          "grade_id": "cell-73abbbb40477df25",
          "locked": false,
          "schema_version": 3,
          "solution": true,
          "task": false
        },
        "tags": [],
        "id": "wzhzUVBEZJQZ"
      },
      "outputs": [],
      "source": [
        "def find_q_peak(qrst, sampling_rate=360):\n",
        "    \"\"\"Find the Q peak in an array of qrst complexes extracted before.\n",
        "\n",
        "    The Q peak is the first valley to the left of the R-Peak\n",
        "\n",
        "    Returns:\n",
        "        The relative distance from the R-Peak in samples\n",
        "    \"\"\"\n",
        "    # YOUR CODE HERE\n",
        "    raise NotImplementedError()\n",
        "    return index_q\n",
        "\n",
        "def find_s_peak(qrst, sampling_rate=360):\n",
        "    \"\"\"Find the S peak in an array of qrst complexes extracted before.\n",
        "\n",
        "    The S peak is the first valley to the right of the R-Peak\n",
        "\n",
        "    Returns:\n",
        "        The relative distance from the R-Peak in samples\n",
        "    \"\"\"\n",
        "    # YOUR CODE HERE\n",
        "    raise NotImplementedError()\n",
        "    return index_s"
      ]
    },
    {
      "cell_type": "code",
      "execution_count": null,
      "metadata": {
        "tags": [],
        "id": "o2w6R4hgZJQZ"
      },
      "outputs": [],
      "source": [
        "peaks['Q'] = peaks['R'] - find_q_peak(qrst_complexes)\n",
        "peaks['S'] = peaks['R'] + find_s_peak(qrst_complexes)\n",
        "peaks.head(5)"
      ]
    },
    {
      "cell_type": "code",
      "execution_count": null,
      "metadata": {
        "deletable": false,
        "editable": false,
        "nbgrader": {
          "cell_type": "code",
          "checksum": "7a0318ecbc4ec1f11cac81d07d540dce",
          "grade": true,
          "grade_id": "cell-f1751529e9be2a06",
          "locked": true,
          "points": 4,
          "schema_version": 3,
          "solution": false,
          "task": false
        },
        "tags": [],
        "id": "2Wd6Jp16ZJQZ"
      },
      "outputs": [],
      "source": [
        "assert peaks['Q'][0] == 254, 'The first Q peak is found wrong.'\n",
        "assert peaks['S'][0] == 273, 'The first S peak is found wrong.'\n",
        "print('The first Q and S peaks are found correct.')\n"
      ]
    },
    {
      "cell_type": "code",
      "execution_count": null,
      "metadata": {
        "tags": [],
        "id": "DR_KG2heZJQZ"
      },
      "outputs": [],
      "source": [
        "plt.figure()\n",
        "plt.plot(signal)\n",
        "\n",
        "peak_pos = peaks[['Q', 'R', 'S']] / sampling_rate\n",
        "plt.plot(peak_pos['R'], signal.loc[peak_pos['R']], 'r*')\n",
        "plt.plot(peak_pos['S'], signal.loc[peak_pos['S']], 'go')\n",
        "plt.plot(peak_pos['Q'], signal.loc[peak_pos['Q']], 'ks')\n",
        "\n",
        "plt.xlabel('time [s]')\n",
        "plt.xlim(200, 205);"
      ]
    },
    {
      "cell_type": "markdown",
      "metadata": {
        "id": "8oiTCMi2ZJQZ"
      },
      "source": [
        "## Ex. 11.2: ECG feature"
      ]
    },
    {
      "cell_type": "markdown",
      "metadata": {
        "id": "V7DRFC9nZJQa"
      },
      "source": [
        "To describe each extracted QRST complexes we can calculate a set of features on each complex.\n",
        "These features can later be used in a ML classification.\n",
        "\n",
        "a) Implement the following features and add each of them as a new column to the `peaks` array:\n",
        "\n",
        "1. Compute the QRS widths as the difference between the S-peaks and the Q-peaks\n",
        "\n",
        "2. Compute the amplitude of the QR difference\n",
        "\n",
        "3. Compute the amplitude of the RS difference\n",
        "\n",
        "4. Compute the area below the QRST curve as follows:\n",
        "\n",
        "- Subtract the mean of each QRST complex from each complex.\n",
        "- take the absolut of all values\n",
        "- Compute the area of the resulting curve by summing up all the elements.\n",
        "\n",
        "5. Compute the normalized scalar product of a QRS complex and the template of a normal QRS complex with the following formula:\n",
        "$$\n",
        "c=\\frac{\\sum_{n = 1}^{N} [x(n) - min(x)] [y (n) - min(y)]}{\\sqrt{\\sum_{n=1}^{N}[x(n) - min(x)]^2 \\sum_{n=1}^{N}[y(n) - min(y)]^2 }}\n",
        "$$\n",
        "$x(n) = $ template (first QRS complex of the ECG signal),\n",
        "$y(n) = $ the QRS complex of interest,\n",
        "$N = $ amount of samples the heartbeat contains,\n",
        "\n",
        "b) Plot the results of all features and visually inspect potential outliers."
      ]
    },
    {
      "cell_type": "code",
      "execution_count": null,
      "metadata": {
        "deletable": false,
        "nbgrader": {
          "cell_type": "code",
          "checksum": "d39c9e4b2cca33250280a692f9da8d4a",
          "grade": false,
          "grade_id": "cell-b9805980f5b5bfae",
          "locked": false,
          "schema_version": 3,
          "solution": true,
          "task": false
        },
        "tags": [],
        "id": "eIwkY3D9ZJQa"
      },
      "outputs": [],
      "source": [
        "# Implement the following feature and add each of them as a new column to the `peaks` array\n",
        "\n",
        "# QRS-width\n",
        "# Calculate the distance between the S- and the Q-\"valley\" in seconds. The column should be named as 'QRS_Width'\n",
        "# YOUR CODE HERE\n",
        "raise NotImplementedError()\n",
        "\n",
        "# QR Amplitude difference\n",
        "# Calculate the amplitude difference between the R-peak and the Q-valey. The column should be named as 'QR_amplitude'\n",
        "# YOUR CODE HERE\n",
        "raise NotImplementedError()\n",
        "\n",
        "# RS Amplitude difference\n",
        "# Calculate the amplitude difference between the R-peak and the S-valey. The column should be named as 'RS_amplitude'\n",
        "### BEGIN SOLTUION\n",
        "peaks['RS_amplitude'] = signal.values[peaks['R'].values] - signal.values[peaks['S'].values]\n",
        "\n",
        "# QRST Area\n",
        "# Calculate the area under each QRST complex after substracting the mean value of each complex to\n",
        "# normalize the baseline. The column should be named as 'QRST_area'\n",
        "# YOUR CODE HERE\n",
        "raise NotImplementedError()\n",
        "\n",
        "# Template Match\n",
        "# We assume the first peak in the series is a normal QRST complex\n",
        "# Substract the baseline (minimum) from every qrst complex and then calculate the normalised dot-product (a*b/(|a||b|))\n",
        "# YOUR CODE HERE\n",
        "raise NotImplementedError()"
      ]
    },
    {
      "cell_type": "code",
      "execution_count": null,
      "metadata": {
        "deletable": false,
        "editable": false,
        "nbgrader": {
          "cell_type": "code",
          "checksum": "c6b0cdbccdc86a2dfe2d7953d7d192fe",
          "grade": true,
          "grade_id": "cell-fd777a3b86c4a9c3",
          "locked": true,
          "points": 6,
          "schema_version": 3,
          "solution": false,
          "task": false
        },
        "tags": [],
        "id": "ow2yGMdhZJQa"
      },
      "outputs": [],
      "source": [
        "assert abs(sum(peaks['QRS_Width'][0:1040]) - 53.91388888888858) < 1e-3, 'Half of the samples for the QRS_Width are wrong'\n",
        "assert abs(sum(peaks['QR_amplitude'][0:1040]) - 2496.889959835294) < 1e-3, 'Half of the samples for the QR_amplitude are wrong'\n",
        "assert abs(sum(peaks['RS_amplitude'][0:1040]) - 2483.7101152334803) < 1e-3, 'Half of the samples for the RS_amplitude are wrong'\n",
        "assert abs(sum(peaks['QRST_area'][0:1040]) - 32009.79782801534) < 1e-3, 'Half of the samples for the QRST_area are wrong'\n"
      ]
    },
    {
      "cell_type": "markdown",
      "metadata": {
        "tags": [],
        "id": "OhXLLjtZZJQa"
      },
      "source": [
        "fig, axs = plt.subplots(nrows=2, ncols=3, sharex=True, figsize=(9, 5))\n",
        "\n",
        "for ax, feature in zip(axs.flatten(), ['QRS_Width', 'QR_amplitude', 'RS_amplitude', 'QRST_area', 'Template']):\n",
        "    ax.plot(peaks['R']/sampling_rate, peaks[feature])\n",
        "    ax.set_title(feature)\n",
        "\n",
        "axs[1, 1].set_xlabel('time [s]')\n",
        "plt.tight_layout()\n",
        "axs[1, -1].remove()"
      ]
    },
    {
      "cell_type": "markdown",
      "metadata": {
        "id": "yK3Kx9Q9ZJQa"
      },
      "source": [
        "## Ex. 11.3: Critical analysis of the pipeline\n",
        "\n",
        "a) Look through the results and the plotted ECG signal. What are potential issues that could have effected our feature calculation?\n",
        "\n",
        "b) How could we solve these issues?"
      ]
    },
    {
      "cell_type": "code",
      "execution_count": null,
      "metadata": {
        "id": "8JvmOu0wZJQa"
      },
      "outputs": [],
      "source": []
    },
    {
      "cell_type": "code",
      "execution_count": null,
      "metadata": {
        "id": "jC9369ryZJQa"
      },
      "outputs": [],
      "source": []
    }
  ],
  "metadata": {
    "kernelspec": {
      "display_name": "Python 3 (ipykernel)",
      "language": "python",
      "name": "python3"
    },
    "language_info": {
      "codemirror_mode": {
        "name": "ipython",
        "version": 3
      },
      "file_extension": ".py",
      "mimetype": "text/x-python",
      "name": "python",
      "nbconvert_exporter": "python",
      "pygments_lexer": "ipython3",
      "version": "3.8.8"
    },
    "colab": {
      "provenance": [],
      "include_colab_link": true
    }
  },
  "nbformat": 4,
  "nbformat_minor": 0
}